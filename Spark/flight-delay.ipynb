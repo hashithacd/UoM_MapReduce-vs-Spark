{
 "cells": [
  {
   "cell_type": "code",
   "execution_count": 249,
   "metadata": {},
   "outputs": [],
   "source": [
    "from pyspark.sql import SparkSession\n",
    "from pyspark.sql.functions import col, sum, avg, round\n",
    "import time"
   ]
  },
  {
   "cell_type": "code",
   "execution_count": 250,
   "metadata": {},
   "outputs": [],
   "source": [
    "import findspark\n",
    "findspark.init(r\"D:\\Spark\\spark-2.4.6-bin-hadoop2.7\")"
   ]
  },
  {
   "cell_type": "code",
   "execution_count": 251,
   "metadata": {},
   "outputs": [],
   "source": [
    "from pyspark.sql import SparkSession\n",
    "spark = SparkSession.builder.appName('flightDelay').getOrCreate()"
   ]
  },
  {
   "cell_type": "code",
   "execution_count": 252,
   "metadata": {},
   "outputs": [],
   "source": [
    "airlines_df = spark.read.csv(\"DelayedFlights-updated.csv\", inferSchema=True, header=True)"
   ]
  },
  {
   "cell_type": "code",
   "execution_count": 256,
   "metadata": {
    "scrolled": true
   },
   "outputs": [],
   "source": [
    "selected_data = airlines_df.where((col('Dest')=='JFK') & (col('DepDelay') > 100))\n",
    "#data_all.printSchema()"
   ]
  },
  {
   "cell_type": "code",
   "execution_count": 137,
   "metadata": {},
   "outputs": [],
   "source": [
    "def get_delay_by_delay_type(airlines_delay_df, delay_types):\n",
    "    time_by_delay_type = []\n",
    "    results_all = []\n",
    "    for item in delay_types:\n",
    "        start_time = time.time()\n",
    "        result = (airlines_delay_df\n",
    "            .where((col(\"Year\") >= 2003) & (col(\"Year\") <= 2010) & (col(item) > 0))\n",
    "            .groupBy(\"Year\")\n",
    "            .agg(round(avg(item), 3).alias(f\"Average_{item}\"))\n",
    "            .orderBy(\"Year\")\n",
    "        )\n",
    "        end_time = time.time()\n",
    "        results_all.append(result)\n",
    "        time_by_delay_type.append({f\"{item}\":end_time - start_time})\n",
    "    return results_all, time_by_delay_type\n"
   ]
  },
  {
   "cell_type": "code",
   "execution_count": 138,
   "metadata": {},
   "outputs": [
    {
     "name": "stdout",
     "output_type": "stream",
     "text": [
      "+----+--------------------+\n",
      "|Year|Average_CarrierDelay|\n",
      "+----+--------------------+\n",
      "|2003|              58.407|\n",
      "|2004|              43.915|\n",
      "|2005|              37.789|\n",
      "|2006|              37.561|\n",
      "|2007|              25.137|\n",
      "|2008|              31.659|\n",
      "|2009|              29.049|\n",
      "|2010|              32.129|\n",
      "+----+--------------------+\n",
      "\n",
      "+----+----------------+\n",
      "|Year|Average_NASDelay|\n",
      "+----+----------------+\n",
      "|2003|          36.392|\n",
      "|2004|          13.324|\n",
      "|2005|          18.889|\n",
      "|2006|          21.195|\n",
      "|2007|          36.802|\n",
      "|2008|          22.381|\n",
      "|2009|          29.742|\n",
      "|2010|           33.66|\n",
      "+----+----------------+\n",
      "\n",
      "+----+--------------------+\n",
      "|Year|Average_WeatherDelay|\n",
      "+----+--------------------+\n",
      "|2003|                55.0|\n",
      "|2004|                41.0|\n",
      "|2005|                26.7|\n",
      "|2006|                64.0|\n",
      "|2007|              32.286|\n",
      "|2008|              38.125|\n",
      "|2009|                12.0|\n",
      "|2010|                30.0|\n",
      "+----+--------------------+\n",
      "\n",
      "+----+-------------------------+\n",
      "|Year|Average_LateAircraftDelay|\n",
      "+----+-------------------------+\n",
      "|2003|                   42.255|\n",
      "|2004|                    35.39|\n",
      "|2005|                   40.912|\n",
      "|2006|                     45.9|\n",
      "|2007|                   44.046|\n",
      "|2008|                    41.38|\n",
      "|2009|                   34.321|\n",
      "|2010|                   43.639|\n",
      "+----+-------------------------+\n",
      "\n",
      "+----+---------------------+\n",
      "|Year|Average_SecurityDelay|\n",
      "+----+---------------------+\n",
      "|2007|                 12.0|\n",
      "+----+---------------------+\n",
      "\n"
     ]
    }
   ],
   "source": [
    "delayTypes = [\"CarrierDelay\", \"NASDelay\", \"WeatherDelay\", \"LateAircraftDelay\", \"SecurityDelay\"]\n",
    "delay_by_type, delayTime = get_delay_by_delay_type(airlines_df, delayTypes)\n",
    "for item in delay_by_type:\n",
    "    item.show()"
   ]
  },
  {
   "cell_type": "code",
   "execution_count": 141,
   "metadata": {},
   "outputs": [
    {
     "name": "stdout",
     "output_type": "stream",
     "text": [
      "[{'time_for_run#1': 0.12800216674804688, 'by_type': [{'CarrierDelay': 0.027999401092529297}, {'NASDelay': 0.023003339767456055}, {'WeatherDelay': 0.023997068405151367}, {'LateAircraftDelay': 0.029000282287597656}, {'SecurityDelay': 0.023003816604614258}]}, {'time_for_run#2': 0.2570052146911621, 'by_type': [{'CarrierDelay': 0.023998022079467773}, {'NASDelay': 0.02500176429748535}, {'WeatherDelay': 0.03400468826293945}, {'LateAircraftDelay': 0.02299952507019043}, {'SecurityDelay': 0.021999359130859375}]}, {'time_for_run#3': 0.3760066032409668, 'by_type': [{'CarrierDelay': 0.02200031280517578}, {'NASDelay': 0.02200031280517578}, {'WeatherDelay': 0.02900075912475586}, {'LateAircraftDelay': 0.023000001907348633}, {'SecurityDelay': 0.02200007438659668}]}, {'time_for_run#4': 0.513002872467041, 'by_type': [{'CarrierDelay': 0.025002241134643555}, {'NASDelay': 0.03300046920776367}, {'WeatherDelay': 0.02399301528930664}, {'LateAircraftDelay': 0.028000354766845703}, {'SecurityDelay': 0.0260009765625}]}, {'time_for_run#5': 0.6850087642669678, 'by_type': [{'CarrierDelay': 0.06000471115112305}, {'NASDelay': 0.027002334594726562}, {'WeatherDelay': 0.026999950408935547}, {'LateAircraftDelay': 0.02699899673461914}, {'SecurityDelay': 0.03099989891052246}]}]\n"
     ]
    }
   ],
   "source": [
    "time_list = []\n",
    "start_time = time.time()\n",
    "for run in range(1, 6):\n",
    "    time_per_run,time_by_type  = get_delay_by_delay_type(airlines_df, delayTypes)   \n",
    "    end_time = time.time()\n",
    "    time_list.append({f\"time_for_run#{run}\":end_time - start_time, \"by_type\":time_by_type})\n",
    "print(time_list)"
   ]
  },
  {
   "cell_type": "code",
   "execution_count": 169,
   "metadata": {},
   "outputs": [],
   "source": [
    "CarrierDelay =[]\n",
    "NASDelay = []\n",
    "WeatherDelay =[]\n",
    "LateAircraftDelay =[]\n",
    "SecurityDelay =[]\n",
    "for index, item in enumerate(time_list):\n",
    "    CarrierDelay+=item['by_type'][0].values()\n",
    "    NASDelay+=item['by_type'][1].values()\n",
    "    WeatherDelay+=item['by_type'][2].values()\n",
    "    LateAircraftDelay+=item['by_type'][3].values()\n",
    "    SecurityDelay+=item['by_type'][4].values()\n"
   ]
  },
  {
   "cell_type": "code",
   "execution_count": 177,
   "metadata": {},
   "outputs": [],
   "source": [
    "import pyspark.sql.functions as F\n",
    "CarrierDelay_avg = F.udf(lambda x: float(np.mean(json.loads(CarrierDelay))), 'float')"
   ]
  },
  {
   "cell_type": "code",
   "execution_count": 191,
   "metadata": {},
   "outputs": [],
   "source": [
    "from pyspark.sql.functions import avg\n",
    "from pyspark.sql.types import StructType, StructField, FloatType\n",
    "def get_average_value(values_list):\n",
    "    schema_list = StructType([StructField(\"value\", FloatType(), True)])\n",
    "    values_df = spark.createDataFrame([(value,) for value in values_list], schema_list)\n",
    "    avg_value = values_df.agg(avg(\"value\")).collect()[0][0]\n",
    "    return avg_value"
   ]
  },
  {
   "cell_type": "code",
   "execution_count": 192,
   "metadata": {},
   "outputs": [],
   "source": [
    "CarrierDelay_avg =get_average_value(CarrierDelay)\n",
    "NASDelay_avg = get_average_value(NASDelay)\n",
    "WeatherDelay_avg =get_average_value(WeatherDelay)\n",
    "LateAircraftDelay_avg =get_average_value(LateAircraftDelay)\n",
    "SecurityDelay_avg =get_average_value(SecurityDelay)"
   ]
  },
  {
   "cell_type": "code",
   "execution_count": 193,
   "metadata": {},
   "outputs": [],
   "source": [
    "average_time_by_delay_type_values = [CarrierDelay_avg, NASDelay_avg, WeatherDelay_avg, LateAircraftDelay_avg, SecurityDelay_avg]"
   ]
  },
  {
   "cell_type": "code",
   "execution_count": 194,
   "metadata": {},
   "outputs": [
    {
     "data": {
      "text/plain": [
       "[0.03180093765258789,\n",
       " 0.026001644134521485,\n",
       " 0.027599096298217773,\n",
       " 0.025999832153320312,\n",
       " 0.024800825119018554]"
      ]
     },
     "execution_count": 194,
     "metadata": {},
     "output_type": "execute_result"
    }
   ],
   "source": [
    "average_time_by_delay_type_values"
   ]
  },
  {
   "cell_type": "code",
   "execution_count": 196,
   "metadata": {},
   "outputs": [],
   "source": [
    "from matplotlib import pyplot as plt\n",
    "import numpy as np"
   ]
  },
  {
   "cell_type": "code",
   "execution_count": 203,
   "metadata": {},
   "outputs": [],
   "source": [
    "a = np.array(average_time_by_delay_type_values)\n",
    "\n",
    "zipped = zip(delayTypes, average_time_by_delay_type_values)\n",
    "df = pd.DataFrame(zipped, columns=['delay_type', 'average_processing_time'])"
   ]
  },
  {
   "cell_type": "code",
   "execution_count": 205,
   "metadata": {},
   "outputs": [
    {
     "data": {
      "text/html": [
       "<div>\n",
       "<style scoped>\n",
       "    .dataframe tbody tr th:only-of-type {\n",
       "        vertical-align: middle;\n",
       "    }\n",
       "\n",
       "    .dataframe tbody tr th {\n",
       "        vertical-align: top;\n",
       "    }\n",
       "\n",
       "    .dataframe thead th {\n",
       "        text-align: right;\n",
       "    }\n",
       "</style>\n",
       "<table border=\"1\" class=\"dataframe\">\n",
       "  <thead>\n",
       "    <tr style=\"text-align: right;\">\n",
       "      <th></th>\n",
       "      <th>delay_type</th>\n",
       "      <th>average_processing_time</th>\n",
       "    </tr>\n",
       "  </thead>\n",
       "  <tbody>\n",
       "    <tr>\n",
       "      <th>0</th>\n",
       "      <td>CarrierDelay</td>\n",
       "      <td>0.031801</td>\n",
       "    </tr>\n",
       "    <tr>\n",
       "      <th>1</th>\n",
       "      <td>NASDelay</td>\n",
       "      <td>0.026002</td>\n",
       "    </tr>\n",
       "    <tr>\n",
       "      <th>2</th>\n",
       "      <td>WeatherDelay</td>\n",
       "      <td>0.027599</td>\n",
       "    </tr>\n",
       "    <tr>\n",
       "      <th>3</th>\n",
       "      <td>LateAircraftDelay</td>\n",
       "      <td>0.026000</td>\n",
       "    </tr>\n",
       "    <tr>\n",
       "      <th>4</th>\n",
       "      <td>SecurityDelay</td>\n",
       "      <td>0.024801</td>\n",
       "    </tr>\n",
       "  </tbody>\n",
       "</table>\n",
       "</div>"
      ],
      "text/plain": [
       "          delay_type  average_processing_time\n",
       "0       CarrierDelay                 0.031801\n",
       "1           NASDelay                 0.026002\n",
       "2       WeatherDelay                 0.027599\n",
       "3  LateAircraftDelay                 0.026000\n",
       "4      SecurityDelay                 0.024801"
      ]
     },
     "execution_count": 205,
     "metadata": {},
     "output_type": "execute_result"
    }
   ],
   "source": [
    "df"
   ]
  },
  {
   "cell_type": "code",
   "execution_count": 243,
   "metadata": {},
   "outputs": [
    {
     "data": {
      "image/png": "[encoded data removed]",
      "text/plain": [
       "<Figure size 576x432 with 1 Axes>"
      ]
     },
     "metadata": {},
     "output_type": "display_data"
    },
    {
     "data": {
      "text/plain": [
       "<Figure size 432x288 with 0 Axes>"
      ]
     },
     "metadata": {},
     "output_type": "display_data"
    }
   ],
   "source": [
    "plt.figure(figsize=(8, 6))\n",
    "plt.bar(df['delay_type'], df['average_processing_time'])\n",
    "plt.xlabel('Delay Type')\n",
    "plt.ylabel('Average Processing Time')\n",
    "plt.title('Average Processing Time for Different Delay Types')\n",
    "plt.show()\n",
    "plt.savefig('average_processing_time.png', dpi=300)"
   ]
  },
  {
   "cell_type": "code",
   "execution_count": 244,
   "metadata": {},
   "outputs": [
    {
     "name": "stdout",
     "output_type": "stream",
     "text": [
      "dict_keys(['time_for_run#1', 'by_type'])\n",
      "dict_keys(['time_for_run#2', 'by_type'])\n",
      "dict_keys(['time_for_run#3', 'by_type'])\n",
      "dict_keys(['time_for_run#4', 'by_type'])\n",
      "dict_keys(['time_for_run#5', 'by_type'])\n"
     ]
    }
   ],
   "source": [
    "for item in time_list:\n",
    "    print(item.keys())"
   ]
  },
  {
   "cell_type": "code",
   "execution_count": 245,
   "metadata": {},
   "outputs": [],
   "source": [
    "execution_time_per_run_cumulative = [next(iter(d.values())) for d in time_list]"
   ]
  },
  {
   "cell_type": "code",
   "execution_count": 246,
   "metadata": {},
   "outputs": [
    {
     "data": {
      "text/plain": [
       "[0.12800216674804688,\n",
       " 0.2570052146911621,\n",
       " 0.3760066032409668,\n",
       " 0.513002872467041,\n",
       " 0.6850087642669678]"
      ]
     },
     "execution_count": 246,
     "metadata": {},
     "output_type": "execute_result"
    }
   ],
   "source": [
    "execution_time_per_run_cumulative"
   ]
  },
  {
   "cell_type": "code",
   "execution_count": 247,
   "metadata": {},
   "outputs": [],
   "source": [
    "a = np.array(average_time_by_delay_type_values)\n",
    "\n",
    "zipped = zip([f\"run#_{x}\" for x in range(1, 6)], execution_time_per_run_cumulative)\n",
    "time_per_run_cumulative = pd.DataFrame(zipped, columns=['run_number', 'cumulative_processing_time'])"
   ]
  },
  {
   "cell_type": "code",
   "execution_count": 248,
   "metadata": {},
   "outputs": [
    {
     "data": {
      "text/html": [
       "<div>\n",
       "<style scoped>\n",
       "    .dataframe tbody tr th:only-of-type {\n",
       "        vertical-align: middle;\n",
       "    }\n",
       "\n",
       "    .dataframe tbody tr th {\n",
       "        vertical-align: top;\n",
       "    }\n",
       "\n",
       "    .dataframe thead th {\n",
       "        text-align: right;\n",
       "    }\n",
       "</style>\n",
       "<table border=\"1\" class=\"dataframe\">\n",
       "  <thead>\n",
       "    <tr style=\"text-align: right;\">\n",
       "      <th></th>\n",
       "      <th>run_number</th>\n",
       "      <th>cumulative_processing_time</th>\n",
       "    </tr>\n",
       "  </thead>\n",
       "  <tbody>\n",
       "    <tr>\n",
       "      <th>0</th>\n",
       "      <td>run#_1</td>\n",
       "      <td>0.128002</td>\n",
       "    </tr>\n",
       "    <tr>\n",
       "      <th>1</th>\n",
       "      <td>run#_2</td>\n",
       "      <td>0.257005</td>\n",
       "    </tr>\n",
       "    <tr>\n",
       "      <th>2</th>\n",
       "      <td>run#_3</td>\n",
       "      <td>0.376007</td>\n",
       "    </tr>\n",
       "    <tr>\n",
       "      <th>3</th>\n",
       "      <td>run#_4</td>\n",
       "      <td>0.513003</td>\n",
       "    </tr>\n",
       "    <tr>\n",
       "      <th>4</th>\n",
       "      <td>run#_5</td>\n",
       "      <td>0.685009</td>\n",
       "    </tr>\n",
       "  </tbody>\n",
       "</table>\n",
       "</div>"
      ],
      "text/plain": [
       "  run_number  cumulative_processing_time\n",
       "0     run#_1                    0.128002\n",
       "1     run#_2                    0.257005\n",
       "2     run#_3                    0.376007\n",
       "3     run#_4                    0.513003\n",
       "4     run#_5                    0.685009"
      ]
     },
     "execution_count": 248,
     "metadata": {},
     "output_type": "execute_result"
    }
   ],
   "source": [
    "time_per_run_cumulative"
   ]
  },
  {
   "cell_type": "code",
   "execution_count": 242,
   "metadata": {},
   "outputs": [
    {
     "data": {
      "image/png": "[encoded data removed]",
      "text/plain": [
       "<Figure size 576x432 with 1 Axes>"
      ]
     },
     "metadata": {},
     "output_type": "display_data"
    },
    {
     "data": {
      "text/plain": [
       "<Figure size 432x288 with 0 Axes>"
      ]
     },
     "metadata": {},
     "output_type": "display_data"
    }
   ],
   "source": [
    "plt.figure(figsize=(8, 6))\n",
    "plt.bar(time_per_run_cumulative['run_number'], time_per_run_cumulative['cumulative_processing_time'])\n",
    "plt.xlabel('Cumulative Time-Spark')\n",
    "plt.ylabel('Cumulative Processing Time')\n",
    "plt.title('Cumilative Processing Time for Different run numbers')\n",
    "plt.show()\n",
    "plt.savefig('cumulative_processing_time.png', dpi=300)"
   ]
  },
  {
   "cell_type": "code",
   "execution_count": null,
   "metadata": {},
   "outputs": [],
   "source": []
  }
 ],
 "metadata": {
  "kernelspec": {
   "display_name": "Python 3",
   "language": "python",
   "name": "python3"
  },
  "language_info": {
   "codemirror_mode": {
    "name": "ipython",
    "version": 3
   },
   "file_extension": ".py",
   "mimetype": "text/x-python",
   "name": "python",
   "nbconvert_exporter": "python",
   "pygments_lexer": "ipython3",
   "version": "3.6.5"
  }
 },
 "nbformat": 4,
 "nbformat_minor": 2
}
